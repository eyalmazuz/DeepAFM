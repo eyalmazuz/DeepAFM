{
 "cells": [
  {
   "cell_type": "code",
   "execution_count": 4,
   "metadata": {},
   "outputs": [],
   "source": [
    "import random\n",
    "import time\n",
    "import os\n",
    "\n",
    "import tensorflow as tf\n",
    "import numpy as np\n",
    "import pandas as pd\n",
    "\n",
    "from sklearn.preprocessing import LabelEncoder\n",
    "from sklearn.model_selection import train_test_split\n",
    "\n",
    "from tqdm.notebook import tqdm\n",
    "\n",
    "from AFM import AFM, DeepAFM"
   ]
  },
  {
   "cell_type": "code",
   "execution_count": 5,
   "metadata": {},
   "outputs": [
    {
     "name": "stdout",
     "output_type": "stream",
     "text": [
      "1 Physical GPUs, 1 Logical GPUs\n"
     ]
    }
   ],
   "source": [
    "gpus = tf.config.experimental.list_physical_devices('GPU')\n",
    "if gpus:\n",
    "    try:\n",
    "    # Currently, memory growth needs to be the same across GPUs\n",
    "        for gpu in gpus:\n",
    "            tf.config.experimental.set_memory_growth(gpu, True)\n",
    "        logical_gpus = tf.config.experimental.list_logical_devices('GPU')\n",
    "        print(len(gpus), \"Physical GPUs,\", len(logical_gpus), \"Logical GPUs\")\n",
    "    except RuntimeError as e:\n",
    "    # Memory growth must be set before GPUs have been initialized\n",
    "        print(e)\n"
   ]
  },
  {
   "cell_type": "code",
   "execution_count": 6,
   "metadata": {},
   "outputs": [],
   "source": [
    "df = pd.read_csv('frappe_all.csv', usecols=['user', 'item', 'daytime', 'weekday', 'isweekend', 'homework', 'cost',\n",
    "       'weather', 'country', 'city', 'label'])"
   ]
  },
  {
   "cell_type": "code",
   "execution_count": 8,
   "metadata": {},
   "outputs": [
    {
     "data": {
      "text/html": [
       "<div>\n",
       "<style scoped>\n",
       "    .dataframe tbody tr th:only-of-type {\n",
       "        vertical-align: middle;\n",
       "    }\n",
       "\n",
       "    .dataframe tbody tr th {\n",
       "        vertical-align: top;\n",
       "    }\n",
       "\n",
       "    .dataframe thead th {\n",
       "        text-align: right;\n",
       "    }\n",
       "</style>\n",
       "<table border=\"1\" class=\"dataframe\">\n",
       "  <thead>\n",
       "    <tr style=\"text-align: right;\">\n",
       "      <th></th>\n",
       "      <th>user</th>\n",
       "      <th>item</th>\n",
       "      <th>daytime</th>\n",
       "      <th>weekday</th>\n",
       "      <th>isweekend</th>\n",
       "      <th>homework</th>\n",
       "      <th>cost</th>\n",
       "      <th>weather</th>\n",
       "      <th>country</th>\n",
       "      <th>city</th>\n",
       "      <th>label</th>\n",
       "    </tr>\n",
       "  </thead>\n",
       "  <tbody>\n",
       "    <tr>\n",
       "      <th>0</th>\n",
       "      <td>66.0</td>\n",
       "      <td>2471.0</td>\n",
       "      <td>morning</td>\n",
       "      <td>sunday</td>\n",
       "      <td>weekend</td>\n",
       "      <td>unknown</td>\n",
       "      <td>free</td>\n",
       "      <td>rainy</td>\n",
       "      <td>United States</td>\n",
       "      <td>0.0</td>\n",
       "      <td>1</td>\n",
       "    </tr>\n",
       "    <tr>\n",
       "      <th>1</th>\n",
       "      <td>269.0</td>\n",
       "      <td>116.0</td>\n",
       "      <td>afternoon</td>\n",
       "      <td>thursday</td>\n",
       "      <td>weekend</td>\n",
       "      <td>unknown</td>\n",
       "      <td>paid</td>\n",
       "      <td>sunny</td>\n",
       "      <td>Palestine</td>\n",
       "      <td>434.0</td>\n",
       "      <td>0</td>\n",
       "    </tr>\n",
       "    <tr>\n",
       "      <th>2</th>\n",
       "      <td>225.0</td>\n",
       "      <td>354.0</td>\n",
       "      <td>noon</td>\n",
       "      <td>saturday</td>\n",
       "      <td>workday</td>\n",
       "      <td>unknown</td>\n",
       "      <td>free</td>\n",
       "      <td>stormy</td>\n",
       "      <td>Hungary</td>\n",
       "      <td>347.0</td>\n",
       "      <td>0</td>\n",
       "    </tr>\n",
       "    <tr>\n",
       "      <th>3</th>\n",
       "      <td>108.0</td>\n",
       "      <td>5.0</td>\n",
       "      <td>sunset</td>\n",
       "      <td>wednesday</td>\n",
       "      <td>workday</td>\n",
       "      <td>home</td>\n",
       "      <td>free</td>\n",
       "      <td>drizzle</td>\n",
       "      <td>Japan</td>\n",
       "      <td>391.0</td>\n",
       "      <td>0</td>\n",
       "    </tr>\n",
       "    <tr>\n",
       "      <th>4</th>\n",
       "      <td>257.0</td>\n",
       "      <td>33.0</td>\n",
       "      <td>morning</td>\n",
       "      <td>thursday</td>\n",
       "      <td>workday</td>\n",
       "      <td>unknown</td>\n",
       "      <td>free</td>\n",
       "      <td>cloudy</td>\n",
       "      <td>United States</td>\n",
       "      <td>0.0</td>\n",
       "      <td>1</td>\n",
       "    </tr>\n",
       "  </tbody>\n",
       "</table>\n",
       "</div>"
      ],
      "text/plain": [
       "    user    item    daytime    weekday isweekend homework  cost  weather  \\\n",
       "0   66.0  2471.0    morning     sunday   weekend  unknown  free    rainy   \n",
       "1  269.0   116.0  afternoon   thursday   weekend  unknown  paid    sunny   \n",
       "2  225.0   354.0       noon   saturday   workday  unknown  free   stormy   \n",
       "3  108.0     5.0     sunset  wednesday   workday     home  free  drizzle   \n",
       "4  257.0    33.0    morning   thursday   workday  unknown  free   cloudy   \n",
       "\n",
       "         country   city  label  \n",
       "0  United States    0.0      1  \n",
       "1      Palestine  434.0      0  \n",
       "2        Hungary  347.0      0  \n",
       "3          Japan  391.0      0  \n",
       "4  United States    0.0      1  "
      ]
     },
     "execution_count": 8,
     "metadata": {},
     "output_type": "execute_result"
    }
   ],
   "source": [
    "df.head()"
   ]
  },
  {
   "cell_type": "code",
   "execution_count": 9,
   "metadata": {},
   "outputs": [],
   "source": [
    "labels = df['label']\n",
    "df.drop(columns=['label'], inplace=True)"
   ]
  },
  {
   "cell_type": "code",
   "execution_count": 10,
   "metadata": {},
   "outputs": [],
   "source": [
    "encoders = {}\n",
    "for column in df.columns:\n",
    "    encoders[column] = LabelEncoder()\n",
    "    df[column] = encoders[column].fit_transform(df[column].values)"
   ]
  },
  {
   "cell_type": "code",
   "execution_count": 11,
   "metadata": {},
   "outputs": [],
   "source": [
    "features = df.nunique().to_dict()"
   ]
  },
  {
   "cell_type": "code",
   "execution_count": 12,
   "metadata": {},
   "outputs": [],
   "source": [
    "loss_object = tf.keras.losses.MeanSquaredError()\n",
    "optimizer = tf.keras.optimizers.Adagrad(learning_rate=0.01)\n"
   ]
  },
  {
   "cell_type": "code",
   "execution_count": 13,
   "metadata": {},
   "outputs": [],
   "source": [
    "def loss_function(y_true, y_pred):\n",
    "    \n",
    "    loss = loss_object(y_true=y_true, y_pred=y_pred)\n",
    "    \n",
    "    rmse = tf.math.sqrt(loss)\n",
    "    \n",
    "    return rmse"
   ]
  },
  {
   "cell_type": "code",
   "execution_count": 19,
   "metadata": {},
   "outputs": [],
   "source": [
    "afm = AFM(features, embedding_size=256, attention_factor=16, rate=0.3)\n"
   ]
  },
  {
   "cell_type": "code",
   "execution_count": 20,
   "metadata": {},
   "outputs": [],
   "source": [
    "x_train, x_test, y_train, y_test = train_test_split(df, labels, test_size=0.1)\n",
    "x_train, x_val, y_train, y_val = train_test_split(x_train, y_train, test_size=0.2)"
   ]
  },
  {
   "cell_type": "code",
   "execution_count": 21,
   "metadata": {},
   "outputs": [],
   "source": [
    "train_loss = tf.keras.metrics.BinaryCrossentropy(name='train_loss')\n",
    "train_accuracy = tf.keras.metrics.BinaryAccuracy(name='train_accuracy')\n",
    "train_auc = tf.keras.metrics.AUC(name='train_auc')\n",
    "\n",
    "val_loss = tf.keras.metrics.BinaryCrossentropy(name='val_loss')\n",
    "val_accuracy = tf.keras.metrics.BinaryAccuracy(name='val_accuracy')\n",
    "val_auc = tf.keras.metrics.AUC(name='val_auc')\n",
    "\n",
    "test_loss = tf.keras.metrics.BinaryCrossentropy(name='test_loss')\n",
    "test_accuracy = tf.keras.metrics.BinaryAccuracy(name='test_accuracy')\n",
    "test_auc = tf.keras.metrics.AUC(name='test_auc')\n",
    "\n"
   ]
  },
  {
   "cell_type": "code",
   "execution_count": 22,
   "metadata": {},
   "outputs": [],
   "source": [
    "def train_step(inputs, target):\n",
    "\n",
    "    with tf.GradientTape() as tape:\n",
    "        predictions  = afm(inputs, True)\n",
    "        loss = loss_function(y_true=target, y_pred=predictions)\n",
    "                \n",
    "    gradients = tape.gradient(loss, afm.trainable_variables)    \n",
    "    optimizer.apply_gradients(zip(gradients, afm.trainable_variables))\n",
    "\n",
    "    train_loss(y_true=target, y_pred=predictions)\n",
    "    train_accuracy(y_true=target, y_pred=predictions)\n",
    "    train_auc(y_true=target, y_pred=predictions)\n"
   ]
  },
  {
   "cell_type": "code",
   "execution_count": 23,
   "metadata": {},
   "outputs": [],
   "source": [
    "EPOCHS = 5\n",
    "BATCH_SIZE = 128\n",
    "STEPS = x_train.shape[0] // BATCH_SIZE"
   ]
  },
  {
   "cell_type": "code",
   "execution_count": 24,
   "metadata": {},
   "outputs": [],
   "source": [
    "checkpoint_path = \"./checkpoints/frappe/AFM\"\n",
    "\n",
    "ckpt = tf.train.Checkpoint(transformer=afm,\n",
    "                           optimizer=optimizer)\n",
    "\n",
    "ckpt_manager = tf.train.CheckpointManager(ckpt, checkpoint_path, max_to_keep=5)\n",
    "\n",
    "# if a checkpoint exists, restore the latest checkpoint.\n",
    "if ckpt_manager.latest_checkpoint:\n",
    "    ckpt.restore(ckpt_manager.latest_checkpoint)\n",
    "    print ('Latest checkpoint restored!!')"
   ]
  },
  {
   "cell_type": "code",
   "execution_count": 25,
   "metadata": {
    "scrolled": true
   },
   "outputs": [
    {
     "name": "stdout",
     "output_type": "stream",
     "text": [
      "Epoch 1 Batch 0 Loss 0.6907 Accuracy 0.5312 AUC 0.5767\n",
      "Epoch 1 Batch 400 Loss 0.5732 Accuracy 0.7099 AUC 0.8587\n",
      "Epoch 1 Batch 800 Loss 0.5290 Accuracy 0.7669 AUC 0.9206\n",
      "Epoch 1 Batch 1200 Loss 0.4972 Accuracy 0.8053 AUC 0.9421\n",
      "Epoch 1 Batch 1600 Loss 0.4729 Accuracy 0.8301 AUC 0.9521\n",
      "\n",
      "Validation Loss 0.3830 Accuracy 0.9147 AUC 0.9794\n",
      "\n",
      "Epoch 2 Batch 0 Loss 0.3689 Accuracy 0.9062 AUC 0.9851\n",
      "Epoch 2 Batch 400 Loss 0.3708 Accuracy 0.9164 AUC 0.9786\n",
      "Epoch 2 Batch 800 Loss 0.3612 Accuracy 0.9186 AUC 0.9786\n",
      "Epoch 2 Batch 1200 Loss 0.3526 Accuracy 0.9213 AUC 0.9794\n",
      "Epoch 2 Batch 1600 Loss 0.3443 Accuracy 0.9240 AUC 0.9800\n",
      "\n",
      "Validation Loss 0.3133 Accuracy 0.9321 AUC 0.9822\n",
      "\n",
      "Epoch 3 Batch 0 Loss 0.3024 Accuracy 0.9531 AUC 0.9926\n",
      "Epoch 3 Batch 400 Loss 0.3087 Accuracy 0.9325 AUC 0.9825\n",
      "Epoch 3 Batch 800 Loss 0.3038 Accuracy 0.9335 AUC 0.9828\n",
      "Epoch 3 Batch 1200 Loss 0.2984 Accuracy 0.9351 AUC 0.9834\n",
      "Epoch 3 Batch 1600 Loss 0.2941 Accuracy 0.9358 AUC 0.9834\n",
      "\n",
      "Validation Loss 0.2762 Accuracy 0.9383 AUC 0.9845\n",
      "\n",
      "Epoch 4 Batch 0 Loss 0.2700 Accuracy 0.9375 AUC 0.9863\n",
      "Epoch 4 Batch 400 Loss 0.2716 Accuracy 0.9413 AUC 0.9858\n",
      "Epoch 4 Batch 800 Loss 0.2685 Accuracy 0.9412 AUC 0.9857\n",
      "Epoch 4 Batch 1200 Loss 0.2662 Accuracy 0.9414 AUC 0.9855\n",
      "Epoch 4 Batch 1600 Loss 0.2633 Accuracy 0.9416 AUC 0.9857\n",
      "\n",
      "Validation Loss 0.2509 Accuracy 0.9443 AUC 0.9864\n",
      "\n",
      "Epoch 5 Batch 0 Loss 0.2731 Accuracy 0.9141 AUC 0.9784\n",
      "Epoch 5 Batch 400 Loss 0.2500 Accuracy 0.9435 AUC 0.9862\n",
      "Epoch 5 Batch 800 Loss 0.2479 Accuracy 0.9438 AUC 0.9863\n",
      "Epoch 5 Batch 1200 Loss 0.2455 Accuracy 0.9442 AUC 0.9866\n",
      "Epoch 5 Batch 1600 Loss 0.2432 Accuracy 0.9450 AUC 0.9869\n",
      "\n",
      "Validation Loss 0.2338 Accuracy 0.9464 AUC 0.9877\n",
      "\n",
      "Saving checkpoint for epoch 5 at ./checkpoints/frappe/AFM/ckpt-1\n",
      "Epoch 5 Loss 0.2431 Accuracy 0.9449\n",
      "Time taken for 1 epoch: 111.50773644447327 secs\n",
      "\n"
     ]
    }
   ],
   "source": [
    "for epoch in range(EPOCHS):\n",
    "    start = time.time()\n",
    "\n",
    "    train_loss.reset_states()\n",
    "    train_accuracy.reset_states()\n",
    "    train_auc.reset_states()\n",
    "\n",
    "    \n",
    "    val_loss.reset_states()\n",
    "    val_accuracy.reset_states()\n",
    "    val_auc.reset_states()\n",
    "\n",
    "    for batch in range(STEPS):\n",
    "        \n",
    "        sample = x_train.sample(n=BATCH_SIZE)\n",
    "        indexs = sample.index\n",
    "        y = y_train[indexs].values.reshape((-1,1))\n",
    "        x = {k: np.array(list(v.values())) for k, v in sample.to_dict().items()}\n",
    "        train_step(x, y)\n",
    "\n",
    "        if batch % 400 == 0:\n",
    "            print ('Epoch {} Batch {} Loss {:.4f} Accuracy {:.4f} AUC {:.4f}'.format(\n",
    "              epoch + 1, batch, train_loss.result(), train_accuracy.result(), train_auc.result()))\n",
    "\n",
    "    for batch in range(x_val.shape[0] // BATCH_SIZE):\n",
    "\n",
    "        sample = x_val.sample(n=BATCH_SIZE)\n",
    "        indexs = sample.index\n",
    "        y = y_val[indexs].values.reshape((-1,1))\n",
    "        x = {k: np.array(list(v.values())) for k, v in sample.to_dict().items()}\n",
    "        val_predictions = afm(x, False)\n",
    "\n",
    "        val_loss(y_true=y, y_pred=val_predictions)\n",
    "        val_accuracy(y_true=y, y_pred=val_predictions)\n",
    "        val_auc(y_true=y, y_pred=val_predictions)\n",
    "\n",
    "    print()\n",
    "    print('Validation Loss {:.4f} Accuracy {:.4f} AUC {:.4f}'.format(\n",
    "      val_loss.result(), val_accuracy.result(), val_auc.result()))\n",
    "    print()\n",
    "\n",
    "    \n",
    "    if (epoch + 1) % 5 == 0:\n",
    "        ckpt_save_path = ckpt_manager.save()\n",
    "        print ('Saving checkpoint for epoch {} at {}'.format(epoch+1,\n",
    "                                                             ckpt_save_path))\n",
    "\n",
    "        print ('Epoch {} Loss {:.4f} Accuracy {:.4f}'.format(epoch + 1, \n",
    "                                                    train_loss.result(), \n",
    "                                                    train_accuracy.result()))\n",
    "\n",
    "        print ('Time taken for 1 epoch: {} secs\\n'.format(time.time() - start))\n"
   ]
  },
  {
   "cell_type": "code",
   "execution_count": 27,
   "metadata": {},
   "outputs": [
    {
     "name": "stdout",
     "output_type": "stream",
     "text": [
      "Test Loss 0.2359 Accuracy 0.9444 AUC 0.9875\n"
     ]
    }
   ],
   "source": [
    "test_loss.reset_states()\n",
    "test_accuracy.reset_states()\n",
    "test_auc.reset_states()\n",
    "\n",
    "for batch in range(x_test.shape[0] // BATCH_SIZE):\n",
    "\n",
    "        sample = x_test.sample(n=BATCH_SIZE)\n",
    "        indexs = sample.index\n",
    "        y = y_test[indexs].values.reshape((-1,1))\n",
    "        x = {k: np.array(list(v.values())) for k, v in sample.to_dict().items()}\n",
    "        test_predictions = afm(x, False)\n",
    "\n",
    "        test_loss(y_true=y, y_pred=test_predictions)\n",
    "        test_accuracy(y_true=y, y_pred=test_predictions)\n",
    "        test_auc(y_true=y, y_pred=test_predictions)\n",
    "\n",
    "print('Test Loss {:.4f} Accuracy {:.4f} AUC {:.4f}'.format(\n",
    "      test_loss.result(), test_accuracy.result(), test_auc.result()))"
   ]
  },
  {
   "cell_type": "code",
   "execution_count": null,
   "metadata": {},
   "outputs": [],
   "source": []
  }
 ],
 "metadata": {
  "kernelspec": {
   "display_name": "Python 3",
   "language": "python",
   "name": "python3"
  },
  "language_info": {
   "codemirror_mode": {
    "name": "ipython",
    "version": 3
   },
   "file_extension": ".py",
   "mimetype": "text/x-python",
   "name": "python",
   "nbconvert_exporter": "python",
   "pygments_lexer": "ipython3",
   "version": "3.8.2"
  }
 },
 "nbformat": 4,
 "nbformat_minor": 4
}
